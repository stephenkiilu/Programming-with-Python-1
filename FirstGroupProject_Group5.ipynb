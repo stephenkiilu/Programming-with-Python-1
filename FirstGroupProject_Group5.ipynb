{
 "cells": [
  {
   "cell_type": "code",
   "execution_count": 31,
   "metadata": {},
   "outputs": [
    {
     "data": {
      "application/javascript": [
       "MathJax.Hub.Config({\n",
       "    TeX: { equationNumbers: { autoNumber: \"AMS\" } }\n",
       "});\n"
      ],
      "text/plain": [
       "<IPython.core.display.Javascript object>"
      ]
     },
     "metadata": {},
     "output_type": "display_data"
    }
   ],
   "source": [
    "%%javascript\n",
    "MathJax.Hub.Config({\n",
    "    TeX: { equationNumbers: { autoNumber: \"AMS\" } }\n",
    "});"
   ]
  },
  {
   "cell_type": "markdown",
   "metadata": {},
   "source": [
    "# $$\\text{Exercise 1}$$\n",
    "1. Let us consider the array $M$ defined below"
   ]
  },
  {
   "cell_type": "code",
   "execution_count": 2,
   "metadata": {
    "scrolled": true
   },
   "outputs": [
    {
     "data": {
      "text/plain": [
       "array([[ 80842, 333008, 202553, 140037,  81969,  63857,  42105, 261540],\n",
       "       [481981, 176739, 489984, 326386, 110795, 394863,  25024,  38317],\n",
       "       [ 49982, 408830, 485118,  16119, 407675, 231729, 265455, 109413],\n",
       "       [103399, 174677, 343356, 301717, 224120, 401101, 140473, 254634],\n",
       "       [112262,  25063, 108262, 375059, 406983, 208947, 115641, 296685],\n",
       "       [444899, 129585, 171318, 313094, 425041, 188411, 335140, 141681],\n",
       "       [ 59641, 211420, 287650,   8973, 477425, 382803, 465168,   3975],\n",
       "       [ 32213, 160603, 275485, 388234, 246225,  56174, 244097,   9350],\n",
       "       [496966, 225516, 273338,  73335, 283013, 212813,  38175, 282399],\n",
       "       [318413, 337639, 379802, 198049, 101115, 419547, 260219, 325793],\n",
       "       [148593, 425024, 348570, 117968, 107007,  52547, 180346, 178760],\n",
       "       [305186, 262153,  11835, 449971, 494184, 472031, 353049, 476442],\n",
       "       [ 35455, 191553, 384154,  29917, 187599,  68912, 428968,  69638],\n",
       "       [ 20140, 220691, 163112,  47862, 474879,  15713, 279173, 161443],\n",
       "       [ 76851, 450401, 193338, 189948, 211826, 384657,  17636, 189954],\n",
       "       [182580, 403458,  63004,  87202,  17143, 308769, 316192, 408259],\n",
       "       [379223, 322891, 302814, 309594,  13650,  68095, 327748,  27138],\n",
       "       [ 33346, 202960, 221234,  61986,  96524, 230606, 266487, 299766],\n",
       "       [ 46264,  33510, 434647,  26750, 412754, 346058, 263454, 270444],\n",
       "       [182770, 486269, 402948, 105055, 463911, 378799, 329053,  16793],\n",
       "       [379586, 293162, 121602, 144605, 105553,  71148,  40126, 183534],\n",
       "       [493338,   5241, 498084, 189451, 219466,  12869, 482845,  16529],\n",
       "       [145955, 461866, 427009,  70841, 318111, 199631,  99330, 407887],\n",
       "       [133826, 214053, 295543, 339707, 199545, 194494, 304822, 337793],\n",
       "       [395524, 206326, 308488, 297633, 472409, 487606, 422244, 443487],\n",
       "       [464749,  75275, 299486, 248984,  76076, 197544,  75103, 394086],\n",
       "       [404365,  67309, 267556,  96483, 166099, 203867,  57120, 211249],\n",
       "       [ 86992, 286426, 130451, 419955, 109839, 332663, 101095,  50820],\n",
       "       [108699, 436141, 333670,  45890, 425798,   6967, 155851, 360687],\n",
       "       [252907, 121138,  81509, 367876, 471831, 226950, 349068, 197092]])"
      ]
     },
     "execution_count": 2,
     "metadata": {},
     "output_type": "execute_result"
    }
   ],
   "source": [
    "import numpy as np\n",
    "M = np.array([[ 80842, 333008, 202553, 140037,  81969,  63857,  42105, 261540],\n",
    "       [481981, 176739, 489984, 326386, 110795, 394863,  25024,  38317],\n",
    "       [ 49982, 408830, 485118,  16119, 407675, 231729, 265455, 109413],\n",
    "       [103399, 174677, 343356, 301717, 224120, 401101, 140473, 254634],\n",
    "       [112262,  25063, 108262, 375059, 406983, 208947, 115641, 296685],\n",
    "       [444899, 129585, 171318, 313094, 425041, 188411, 335140, 141681],\n",
    "       [ 59641, 211420, 287650,   8973, 477425, 382803, 465168,   3975],\n",
    "       [ 32213, 160603, 275485, 388234, 246225,  56174, 244097,   9350],\n",
    "       [496966, 225516, 273338,  73335, 283013, 212813,  38175, 282399],\n",
    "       [318413, 337639, 379802, 198049, 101115, 419547, 260219, 325793],\n",
    "       [148593, 425024, 348570, 117968, 107007,  52547, 180346, 178760],\n",
    "       [305186, 262153,  11835, 449971, 494184, 472031, 353049, 476442],\n",
    "       [ 35455, 191553, 384154,  29917, 187599,  68912, 428968,  69638],\n",
    "       [ 20140, 220691, 163112,  47862, 474879,  15713, 279173, 161443],\n",
    "       [ 76851, 450401, 193338, 189948, 211826, 384657,  17636, 189954],\n",
    "       [182580, 403458,  63004,  87202,  17143, 308769, 316192, 408259],\n",
    "       [379223, 322891, 302814, 309594,  13650,  68095, 327748,  27138],\n",
    "       [ 33346, 202960, 221234,  61986,  96524, 230606, 266487, 299766],\n",
    "       [ 46264,  33510, 434647,  26750, 412754, 346058, 263454, 270444],\n",
    "       [182770, 486269, 402948, 105055, 463911, 378799, 329053,  16793],\n",
    "       [379586, 293162, 121602, 144605, 105553,  71148,  40126, 183534],\n",
    "       [493338,   5241, 498084, 189451, 219466,  12869, 482845,  16529],\n",
    "       [145955, 461866, 427009,  70841, 318111, 199631,  99330, 407887],\n",
    "       [133826, 214053, 295543, 339707, 199545, 194494, 304822, 337793],\n",
    "       [395524, 206326, 308488, 297633, 472409, 487606, 422244, 443487],\n",
    "       [464749,  75275, 299486, 248984,  76076, 197544,  75103, 394086],\n",
    "       [404365,  67309, 267556,  96483, 166099, 203867,  57120, 211249],\n",
    "       [ 86992, 286426, 130451, 419955, 109839, 332663, 101095,  50820],\n",
    "       [108699, 436141, 333670,  45890, 425798,   6967, 155851, 360687],\n",
    "       [252907, 121138,  81509, 367876, 471831, 226950, 349068, 197092]])\n",
    "M\n"
   ]
  },
  {
   "cell_type": "markdown",
   "metadata": {},
   "source": [
    "\n",
    "\n",
    "1. What is the average value of the second and fourth columns?"
   ]
  },
  {
   "cell_type": "code",
   "execution_count": 2,
   "metadata": {},
   "outputs": [
    {
     "data": {
      "text/plain": [
       "218960.13333333333"
      ]
     },
     "execution_count": 2,
     "metadata": {},
     "output_type": "execute_result"
    }
   ],
   "source": [
    "import numpy as np\n",
    "np.average(M[:,1:4:2])\n"
   ]
  },
  {
   "cell_type": "markdown",
   "metadata": {},
   "source": [
    "2. What is the average value of the last 5 rows of the second and fourth columns?"
   ]
  },
  {
   "cell_type": "code",
   "execution_count": 3,
   "metadata": {},
   "outputs": [
    {
     "data": {
      "text/plain": [
       "216547.7"
      ]
     },
     "execution_count": 3,
     "metadata": {},
     "output_type": "execute_result"
    }
   ],
   "source": [
    "import numpy as np\n",
    "np.average(M[-1:-6:-1,1:4:2])\n"
   ]
  },
  {
   "cell_type": "code",
   "execution_count": 4,
   "metadata": {},
   "outputs": [
    {
     "data": {
      "text/plain": [
       "array([ 80842, 481981,  49982, 103399, 112262, 444899,  59641,  32213,\n",
       "       496966, 318413, 148593, 305186,  35455,  20140,  76851, 182580,\n",
       "       379223,  33346,  46264, 182770, 379586, 493338, 145955, 133826,\n",
       "       395524, 464749, 404365,  86992, 108699, 252907])"
      ]
     },
     "execution_count": 4,
     "metadata": {},
     "output_type": "execute_result"
    }
   ],
   "source": [
    "M[:,0]"
   ]
  },
  {
   "cell_type": "markdown",
   "metadata": {},
   "source": [
    "3. Update $M$ by Replacing all its even integers by 0."
   ]
  },
  {
   "cell_type": "code",
   "execution_count": 7,
   "metadata": {},
   "outputs": [
    {
     "name": "stdout",
     "output_type": "stream",
     "text": [
      "[[     0      0 202553 140037  81969  63857  42105      0]\n",
      " [481981 176739      0      0 110795 394863      0  38317]\n",
      " [     0      0      0  16119 407675 231729 265455 109413]\n",
      " [103399 174677      0 301717      0 401101 140473      0]\n",
      " [     0  25063      0 375059 406983 208947 115641 296685]\n",
      " [444899 129585      0      0 425041 188411      0 141681]\n",
      " [ 59641      0      0   8973 477425 382803      0   3975]\n",
      " [ 32213 160603 275485      0 246225      0 244097      0]\n",
      " [     0      0      0  73335 283013 212813  38175 282399]\n",
      " [318413 337639      0 198049 101115 419547 260219 325793]\n",
      " [148593      0      0      0 107007  52547      0      0]\n",
      " [     0 262153  11835 449971      0 472031 353049      0]\n",
      " [ 35455 191553      0  29917 187599      0      0      0]\n",
      " [     0 220691      0      0 474879  15713 279173 161443]\n",
      " [ 76851 450401      0      0      0 384657      0      0]\n",
      " [     0      0      0      0  17143 308769      0 408259]\n",
      " [379223 322891      0      0      0  68095      0      0]\n",
      " [     0      0      0      0      0      0 266487      0]\n",
      " [     0      0 434647      0      0      0      0      0]\n",
      " [     0 486269      0 105055 463911 378799 329053  16793]\n",
      " [     0      0      0 144605 105553      0      0      0]\n",
      " [     0   5241      0 189451      0  12869 482845  16529]\n",
      " [145955      0 427009  70841 318111 199631      0 407887]\n",
      " [     0 214053 295543 339707 199545      0      0 337793]\n",
      " [     0      0      0 297633 472409      0      0 443487]\n",
      " [464749  75275      0      0      0      0  75103      0]\n",
      " [404365  67309      0  96483 166099 203867      0 211249]\n",
      " [     0      0 130451 419955 109839 332663 101095      0]\n",
      " [108699 436141      0      0      0   6967 155851 360687]\n",
      " [252907      0  81509      0 471831      0      0      0]]\n"
     ]
    }
   ],
   "source": [
    "a,b=M.shape\n",
    "for i in range(a):\n",
    "    for j in range(b):\n",
    "        if M[i,j]%2==0:\n",
    "            M[i,j]=0\n",
    "print (M)            "
   ]
  },
  {
   "cell_type": "code",
   "execution_count": null,
   "metadata": {},
   "outputs": [],
   "source": []
  },
  {
   "cell_type": "markdown",
   "metadata": {},
   "source": [
    "# $$\\text{Exercise 2}$$\n",
    "\n",
    "Let $\\{ x_k\\}$ be a partition of $[a,b]$ such that $a=x_0<x_1<\\cdots<x_{N-1}<x_N=b$ and $H$ be the length of the $k$-th subinterval ($H = x_k - x_{k-1}$),\n",
    "then we have \n",
    "$$\\int_a^bf(x)dx \\approx \\sum_{k=1}^N \\frac{f(x_{k-1})+f(x_k)}{2}H = A$$\n",
    "\n",
    "\n",
    "Write a function named <b>Trap</b> that takes $a,b,N, f$ as inputs and return A"
   ]
  },
  {
   "cell_type": "code",
   "execution_count": 22,
   "metadata": {},
   "outputs": [],
   "source": [
    "import numpy as np\n",
    "def Trap(a,b,N,f):\n",
    "    H = (b-a)/N\n",
    "    x = np.linspace(a,b,N+1)\n",
    "    A = 0\n",
    "    for i in range(1,N+1):\n",
    "        A+=(H/2)*(f(x[i-1])+f(x[i]))\n",
    "    return A"
   ]
  },
  {
   "cell_type": "code",
   "execution_count": 23,
   "metadata": {},
   "outputs": [
    {
     "data": {
      "text/plain": [
       "2.7200000000000006"
      ]
     },
     "execution_count": 23,
     "metadata": {},
     "output_type": "execute_result"
    }
   ],
   "source": [
    "f=lambda x:x**2\n",
    "Trap(0,2,5,f)"
   ]
  },
  {
   "cell_type": "markdown",
   "metadata": {},
   "source": [
    "# $$\\text{Exercise 3}$$\n",
    "\n",
    "Let us consider the function $f$ defined on the set of integer as follows \n",
    "\n",
    "\\begin{equation}\n",
    "f(n) =\n",
    "  \\begin{cases}\n",
    "    n/2       & \\quad \\text{if } n \\text{ is even}\\\\\n",
    "    -(n)/3 +1  & \\quad \\text{if } n \\text{ is odd and divisible by 3}\\\\\n",
    "    (n+1)/2 +1 & \\quad \\text{else}\n",
    "  \\end{cases}\n",
    "\\end{equation}\n",
    "\n",
    "Write a python function named <b> ComptFunc </b> that takes two intergers $a$ and $b$ , $a<b$ and return  an array $flist$ of all  $f(n), n \\in nlist$ where $nlist$ is the list of all the integers in the interval $[a,b]$."
   ]
  },
  {
   "cell_type": "code",
   "execution_count": 28,
   "metadata": {},
   "outputs": [
    {
     "data": {
      "text/plain": [
       "array([1., 0., 2., 4., 3.])"
      ]
     },
     "execution_count": 28,
     "metadata": {},
     "output_type": "execute_result"
    }
   ],
   "source": [
    " \n",
    "def ComptFunc(a,b):\n",
    "    import numpy as np\n",
    "    n = np.arange(a,b+1)\n",
    "    F = np.array([])\n",
    "    for i in n:\n",
    "        if i%2==0:\n",
    "            z=i/2\n",
    "            F = np.append(F,np.array([z]))\n",
    "        elif i%2==1 and i%3==0:\n",
    "            z=-((i)/3)+1\n",
    "            F = np.append(F,np.array([z]))\n",
    "        else:\n",
    "            z =  ((i+1)/2)+1\n",
    "            F = np.append(F,np.array([z]))\n",
    "    \n",
    "    return F  \n",
    "\n",
    "ComptFunc(2,6)  "
   ]
  },
  {
   "cell_type": "code",
   "execution_count": 79,
   "metadata": {},
   "outputs": [],
   "source": [
    "def f(n):\n",
    "    if n%2==0:\n",
    "        return n/2\n",
    "    elif n%2==1 and n%3==0:\n",
    "        return -(n)/3+1\n",
    "    else:\n",
    "        return (n+1)/2+1\n",
    "    \n",
    "    \n",
    "def ComptFunc(a,b):\n",
    "    l=np.arange(a,b+1)\n",
    "    g1=np.vectorize(f)\n",
    "    g2=g1(l)\n",
    "    print (g2)\n",
    "  \n",
    "    \n",
    "    \n",
    "\n",
    "\n",
    "        \n",
    "\n",
    "    \n",
    "  \n",
    "\n",
    "    \n",
    "    "
   ]
  },
  {
   "cell_type": "code",
   "execution_count": 78,
   "metadata": {},
   "outputs": [
    {
     "data": {
      "text/plain": [
       "array([1., 0., 2., 4., 3.])"
      ]
     },
     "execution_count": 78,
     "metadata": {},
     "output_type": "execute_result"
    }
   ],
   "source": [
    " ComptFunc(2,6)"
   ]
  },
  {
   "cell_type": "markdown",
   "metadata": {},
   "source": [
    "# $$\\text{Exercise 4}$$\n",
    "\n",
    "Write a python code to create the following numpy arrays\n",
    "$$\n",
    "A = \\begin{pmatrix}\n",
    "1 & 4 & 6 \\\\ \n",
    "0 & -3 & 2 \\\\ \n",
    "-2 & -2 & -2\t\n",
    "\\end{pmatrix}, \\quad\n",
    "B = \\begin{pmatrix}\n",
    "2 & -1 & 0 \\\\ \n",
    "2 & -1 & 0 \\\\ \n",
    "2 & -3 & 1\n",
    "\\end{pmatrix},\n",
    "$$\n",
    "and compute \n",
    "- $A-B$, \n",
    "- $4A + B$, \n",
    "- $trace(A)$, \n",
    "- $B^t$ the transpose of $B$, \n",
    "- $AB$, \n",
    "- $BA^t$, \n",
    "- the determinant of $A$"
   ]
  },
  {
   "cell_type": "code",
   "execution_count": null,
   "metadata": {},
   "outputs": [],
   "source": []
  },
  {
   "cell_type": "code",
   "execution_count": 29,
   "metadata": {},
   "outputs": [],
   "source": [
    "A=np.array([[1,4,6], [0,-3,2],[-2,-2,-2]])\n",
    "B=np.array([[2,-1,0], [2,-1,0],[2,-3,1]])"
   ]
  },
  {
   "cell_type": "code",
   "execution_count": 30,
   "metadata": {},
   "outputs": [
    {
     "data": {
      "text/plain": [
       "array([[-1,  5,  6],\n",
       "       [-2, -2,  2],\n",
       "       [-4,  1, -3]])"
      ]
     },
     "execution_count": 30,
     "metadata": {},
     "output_type": "execute_result"
    }
   ],
   "source": [
    "A-B"
   ]
  },
  {
   "cell_type": "code",
   "execution_count": 31,
   "metadata": {},
   "outputs": [
    {
     "data": {
      "text/plain": [
       "array([[  6,  15,  24],\n",
       "       [  2, -13,   8],\n",
       "       [ -6, -11,  -7]])"
      ]
     },
     "execution_count": 31,
     "metadata": {},
     "output_type": "execute_result"
    }
   ],
   "source": [
    "4*A + B"
   ]
  },
  {
   "cell_type": "code",
   "execution_count": 32,
   "metadata": {},
   "outputs": [
    {
     "data": {
      "text/plain": [
       "-4"
      ]
     },
     "execution_count": 32,
     "metadata": {},
     "output_type": "execute_result"
    }
   ],
   "source": [
    "np.trace(A)"
   ]
  },
  {
   "cell_type": "code",
   "execution_count": 33,
   "metadata": {},
   "outputs": [
    {
     "data": {
      "text/plain": [
       "array([[ 2,  2,  2],\n",
       "       [-1, -1, -3],\n",
       "       [ 0,  0,  1]])"
      ]
     },
     "execution_count": 33,
     "metadata": {},
     "output_type": "execute_result"
    }
   ],
   "source": [
    "np.transpose(B)"
   ]
  },
  {
   "cell_type": "code",
   "execution_count": 34,
   "metadata": {},
   "outputs": [
    {
     "data": {
      "text/plain": [
       "array([[ 22, -23,   6],\n",
       "       [ -2,  -3,   2],\n",
       "       [-12,  10,  -2]])"
      ]
     },
     "execution_count": 34,
     "metadata": {},
     "output_type": "execute_result"
    }
   ],
   "source": [
    "A@B"
   ]
  },
  {
   "cell_type": "code",
   "execution_count": 35,
   "metadata": {},
   "outputs": [
    {
     "data": {
      "text/plain": [
       "array([[ 2,  2,  2],\n",
       "       [-1, -1, -3],\n",
       "       [ 0,  0,  1]])"
      ]
     },
     "execution_count": 35,
     "metadata": {},
     "output_type": "execute_result"
    }
   ],
   "source": [
    "B.T"
   ]
  },
  {
   "cell_type": "code",
   "execution_count": 36,
   "metadata": {},
   "outputs": [
    {
     "data": {
      "text/plain": [
       "-41.999999999999986"
      ]
     },
     "execution_count": 36,
     "metadata": {},
     "output_type": "execute_result"
    }
   ],
   "source": [
    "np.linalg.det(A)"
   ]
  },
  {
   "cell_type": "code",
   "execution_count": 37,
   "metadata": {},
   "outputs": [
    {
     "data": {
      "text/plain": [
       "array([[-2,  3, -2],\n",
       "       [-2,  3, -2],\n",
       "       [-4, 11,  0]])"
      ]
     },
     "execution_count": 37,
     "metadata": {},
     "output_type": "execute_result"
    }
   ],
   "source": [
    "B @ np.transpose(A)"
   ]
  },
  {
   "cell_type": "markdown",
   "metadata": {},
   "source": [
    "# $$\\text{Exercise 5}$$\n",
    "\n",
    "write a python code to solve the system of equation  \n",
    "\\begin{equation}\\label{sysEqu}\n",
    "\\left\\lbrace \n",
    "\\begin{array}{ll}\n",
    "2x + y -2z &= 3,\\\\\n",
    "x-y-z &= 0,\\\\\n",
    "x+y+3z &=12\n",
    "\\end{array}\\right. \n",
    "\\end{equation}"
   ]
  },
  {
   "cell_type": "code",
   "execution_count": 40,
   "metadata": {},
   "outputs": [
    {
     "data": {
      "text/plain": [
       "array([3.5, 1. , 2.5])"
      ]
     },
     "execution_count": 40,
     "metadata": {},
     "output_type": "execute_result"
    }
   ],
   "source": [
    "\n",
    "import numpy as np\n",
    "A = np.array([[2,1,-2],[1,-1,-1],[1,1,3]])\n",
    "B = np.array([3,0,12])\n",
    "np.linalg.inv(A) @ B\n"
   ]
  },
  {
   "cell_type": "markdown",
   "metadata": {},
   "source": [
    "# $$\\text{Exercise 6}$$\n",
    "\n",
    "Let us consider the sequence $U_n$ given by \n",
    "\\begin{equation}\\label{fib}\n",
    "\\left\\lbrace \n",
    "\\begin{array}{ll}\n",
    "U_0 &= 1,\\\\\n",
    "U_1 &= 2,\\\\\n",
    "U_{n} &=-3U_{n-1} +U_{n-2}, \\;\\; \\forall\\; n=2,3,4\\cdots\n",
    "\\end{array}\\right. \n",
    "\\end{equation}\n",
    "\n",
    "Write a python function named  <b>SeqTerms</b> that takes as input an integer $n,\\;\\;n\\geq 0$ and return an array of the first $n+1$ terms (i.e. $U_0, \\cdots, U_{n}$) of the sequence \\eqref{fib}."
   ]
  },
  {
   "cell_type": "code",
   "execution_count": 20,
   "metadata": {},
   "outputs": [],
   "source": [
    "def  SeqTerms(n):\n",
    "    U_0= 1\n",
    "    U_1 = 2\n",
    "    if n==0:\n",
    "        return np.array([U_0])\n",
    "    elif n==1:\n",
    "        return np.array([U_0,U_1])\n",
    "    else:\n",
    "        Z=np.array([U_0,U_1])\n",
    "        for i in range (2,n+1):\n",
    "            U_n = -3*U_1 + U_0\n",
    "            U_0 = U_1\n",
    "            U_1 = U_n            \n",
    "            Z = np.append(Z,np.array([U_n]))\n",
    "        return Z"
   ]
  },
  {
   "cell_type": "code",
   "execution_count": 21,
   "metadata": {},
   "outputs": [
    {
     "data": {
      "text/plain": [
       "array([  1,   2,  -5,  17, -56])"
      ]
     },
     "execution_count": 21,
     "metadata": {},
     "output_type": "execute_result"
    }
   ],
   "source": [
    "SeqTerms(4)"
   ]
  },
  {
   "cell_type": "markdown",
   "metadata": {},
   "source": [
    "# $$\\text{Exercise 7}$$\n",
    "\n",
    "Let $\\{ x_k\\}$ be a partition of $[0,1]$ such that $0=x_0<x_1<\\cdots<x_{99}<x_{100}=1$ and $H$ be the length of the $k$-th subinterval ($H = x_k - x_{k-1}$). \n",
    "\n",
    "1. Write a python code that use Euler’s method to solve the initial value problem\n",
    "\\begin{equation}\\label{eul1}\n",
    "  \\begin{cases}\n",
    "    y' = \\dfrac{2-2xy}{x^2+1},      & \\quad \\text{on } [0, 1]\\\\\\\\\n",
    "    y(0) = 1,\n",
    "  \\end{cases}\n",
    "\\end{equation}\n",
    "i.e. generates array of  $y_k\\approx g(x_k)=g_k$ where $g$ is the exact solution of \\eqref{eul1}\n",
    "\n",
    "2. The exact solution of the initial value problem is given by \n",
    "\\begin{equation}\\label{exact}\n",
    "g(x) = \\dfrac{2x+1}{x^2+1}\n",
    "\\end{equation}\n",
    "\n",
    "use $subplot$ to plot side by side\n",
    "- the exact and appromixate solution in the same window (i.e. ($y_k$  vs $x_k$ and $g_k$ vs $x_k$))\n",
    "- the error $e_k = |y_k -g_k| $ against $x_k$."
   ]
  },
  {
   "cell_type": "code",
   "execution_count": 41,
   "metadata": {},
   "outputs": [
    {
     "data": {
      "text/plain": [
       "<matplotlib.legend.Legend at 0x7f229a1fd438>"
      ]
     },
     "execution_count": 41,
     "metadata": {},
     "output_type": "execute_result"
    },
    {
     "data": {
      "image/png": "[encoded data removed]",
      "text/plain": [
       "<Figure size 432x288 with 2 Axes>"
      ]
     },
     "metadata": {
      "needs_background": "light"
     },
     "output_type": "display_data"
    }
   ],
   "source": [
    "import numpy as np\n",
    "import matplotlib.pyplot as plt\n",
    "f = lambda x,y: (2-(2*x*y))/(x**2+1)\n",
    "a= 0\n",
    "b = 1\n",
    "N = 100\n",
    "H = (b-a)/N\n",
    "x = np.linspace(a,b,N+1)\n",
    "y = np.zeros([N+1])\n",
    "y[0] = 1\n",
    "\n",
    "for i in range(1,N+1):\n",
    "    \n",
    "    y[i] =y[i-1] + H*f(x[i-1],y[i-1])\n",
    "    \n",
    "g= (2*x+1)/(x**2+1)\n",
    "\n",
    "plt.subplot(1,2,1)\n",
    "plt.plot(x[::5],y[::5],'.')\n",
    "plt.plot(x,g)\n",
    "plt.xlabel('x axis')\n",
    "plt.ylabel('y axis')\n",
    "plt.title('Exact and approximation solution')\n",
    "plt.legend(['approximation', 'exact'])\n",
    "\n",
    "plt.subplot(1,2,2)\n",
    "e = abs(y-g)\n",
    "plt.plot(x,e)\n",
    "plt.title('Error')\n",
    "plt.legend(['Error'])\n"
   ]
  },
  {
   "cell_type": "markdown",
   "metadata": {},
   "source": [
    "# $$\\text{Exercise 8}\\quad (\\text{generalization of previous exercise})$$\n",
    "\n",
    "Let $\\{ x_k\\}$ be a partition of $[a,b]$ such that $a=x_0<x_1<\\cdots<x_{99}<x_{N}=b$ and $H$ be the constant length of the $k$-th subinterval ($H = x_k - x_{k-1}$). Let us consider initial value problem\n",
    "\n",
    "\\begin{equation}\\label{eul2}\n",
    "  \\begin{cases}\n",
    "    y' = f(x,y),      & \\quad \\text{on } [a, b]\\\\\\\\\n",
    "    y(a) = c,\n",
    "  \\end{cases}\n",
    "\\end{equation}\n",
    "\n",
    "1. Write a python function <b> EulerMethod </b> that takes $a,b,c,N,$ and $f$ and plot the approximate solution of \\eqref{eul2} using Euler method."
   ]
  },
  {
   "cell_type": "code",
   "execution_count": 45,
   "metadata": {},
   "outputs": [
    {
     "data": {
      "text/plain": [
       "<matplotlib.legend.Legend at 0x7f229a06bb70>"
      ]
     },
     "execution_count": 45,
     "metadata": {},
     "output_type": "execute_result"
    },
    {
     "data": {
      "image/png": "[encoded data removed]",
      "text/plain": [
       "<Figure size 432x288 with 1 Axes>"
      ]
     },
     "metadata": {
      "needs_background": "light"
     },
     "output_type": "display_data"
    }
   ],
   "source": [
    "def EulerMethod(a,b,c,N,f):\n",
    "    H = (b-a)/N\n",
    "    x = np.linspace(a,b,N+1)\n",
    "    y = np.zeros([N+1])\n",
    "    y[0] = c\n",
    "    for i in range(1,N+1):\n",
    "        y[i] =y[i-1] + H*(f(x[i-1],y[i-1]))\n",
    "\n",
    "    return x,y\n",
    "\n",
    "plt.plot(x,y)\n",
    "plt.xlabel('x axis')\n",
    "plt.ylabel('y axis')\n",
    "plt.title('Graph of approximation solution')\n",
    "plt.legend(['approximation'])\n"
   ]
  },
  {
   "cell_type": "markdown",
   "metadata": {},
   "source": [
    "2. Test the function <b> EulerMethod </b> by using the data in Exercise 6"
   ]
  },
  {
   "cell_type": "code",
   "execution_count": 47,
   "metadata": {},
   "outputs": [
    {
     "data": {
      "text/plain": [
       "(array([0.  , 0.01, 0.02, 0.03, 0.04, 0.05, 0.06, 0.07, 0.08, 0.09, 0.1 ,\n",
       "        0.11, 0.12, 0.13, 0.14, 0.15, 0.16, 0.17, 0.18, 0.19, 0.2 , 0.21,\n",
       "        0.22, 0.23, 0.24, 0.25, 0.26, 0.27, 0.28, 0.29, 0.3 , 0.31, 0.32,\n",
       "        0.33, 0.34, 0.35, 0.36, 0.37, 0.38, 0.39, 0.4 , 0.41, 0.42, 0.43,\n",
       "        0.44, 0.45, 0.46, 0.47, 0.48, 0.49, 0.5 , 0.51, 0.52, 0.53, 0.54,\n",
       "        0.55, 0.56, 0.57, 0.58, 0.59, 0.6 , 0.61, 0.62, 0.63, 0.64, 0.65,\n",
       "        0.66, 0.67, 0.68, 0.69, 0.7 , 0.71, 0.72, 0.73, 0.74, 0.75, 0.76,\n",
       "        0.77, 0.78, 0.79, 0.8 , 0.81, 0.82, 0.83, 0.84, 0.85, 0.86, 0.87,\n",
       "        0.88, 0.89, 0.9 , 0.91, 0.92, 0.93, 0.94, 0.95, 0.96, 0.97, 0.98,\n",
       "        0.99, 1.  ]),\n",
       " array([1.        , 1.02      , 1.03979402, 1.05937027, 1.07871724,\n",
       "        1.09782369, 1.11667873, 1.13527178, 1.15359263, 1.17163143,\n",
       "        1.18937874, 1.20682552, 1.22396314, 1.24078341, 1.25727861,\n",
       "        1.27344144, 1.28926508, 1.30474319, 1.3198699 , 1.33463983,\n",
       "        1.34904806, 1.36309018, 1.37676226, 1.39006086, 1.402983  ,\n",
       "        1.41552619, 1.42768842, 1.43946813, 1.45086423, 1.46187606,\n",
       "        1.47250342, 1.48274652, 1.492606  , 1.50208288, 1.51117861,\n",
       "        1.51989498, 1.52823417, 1.53619868, 1.54379137, 1.55101541,\n",
       "        1.55787426, 1.56437168, 1.57051169, 1.57629859, 1.58173688,\n",
       "        1.58683131, 1.59158683, 1.59600859, 1.6001019 , 1.60387224,\n",
       "        1.60732523, 1.61046662, 1.6133023 , 1.61583824, 1.6180805 ,\n",
       "        1.62003524, 1.62170864, 1.62310699, 1.62423657, 1.62510371,\n",
       "        1.62571478, 1.62607612, 1.62619409, 1.62607505, 1.62572531,\n",
       "        1.62515119, 1.62435894, 1.62335481, 1.62214496, 1.62073551,\n",
       "        1.61913254, 1.61734203, 1.61536992, 1.61322205, 1.61090419,\n",
       "        1.60842203, 1.60578118, 1.60298715, 1.60004534, 1.59696109,\n",
       "        1.59373962, 1.59038607, 1.58690545, 1.58330269, 1.57958262,\n",
       "        1.57574996, 1.57180932, 1.56776522, 1.56362206, 1.55938415,\n",
       "        1.55505569, 1.55064077, 1.54614339, 1.54156744, 1.5369167 ,\n",
       "        1.53219487, 1.52740554, 1.5225522 , 1.51763823, 1.51266695,\n",
       "        1.50764154]))"
      ]
     },
     "execution_count": 47,
     "metadata": {},
     "output_type": "execute_result"
    }
   ],
   "source": [
    "f = lambda x,y: (2-(2*x*y))/(x**2 + 1)\n",
    "EulerMethod(0,1,1,100,f)\n"
   ]
  },
  {
   "cell_type": "markdown",
   "metadata": {},
   "source": [
    "# $$\\text{Exercise 9}$$\n",
    "\n",
    "Consider a 25 L tank that will be filled with water in two different ways. In the first case, the water volume that enters the tank per time (rate of volume increase) is piecewise constant, while in the second case, it is continuously increasing.\n",
    "\n",
    "For each of these two cases, you are asked to develop a code that can compute how the total water volume V  in the tank will develop with time t over a period of 3 s. Your calculations must be based on the information given: the initial volume of water (1L in both cases), and the volume of water entering the tank per time. Write a python code to solve and plot the exact volume against the time for the rate $r(t)$ given by \n",
    "1. Case 1: piecewise constant\n",
    "\\begin{equation}\n",
    "r(t) =\n",
    "  \\begin{cases}\n",
    "    1 L/s      & \\quad \\text{if }\\quad  0s<t<1s\\\\\n",
    "    3 L/s  & \\quad \\text{if }\\quad  1s\\leq t< 2s\\\\\n",
    "    7 L/s & \\quad  \\text{if }\\quad  2s\\leq t\\leq 3s\n",
    "  \\end{cases}\n",
    "\\end{equation}\n",
    "\n",
    "2. Case 2:  $r(t) = e^t$ for all $0< t\\leq 3$.\n"
   ]
  },
  {
   "cell_type": "code",
   "execution_count": 48,
   "metadata": {},
   "outputs": [
    {
     "data": {
      "image/png": "[encoded data removed]",
      "text/plain": [
       "<Figure size 432x288 with 1 Axes>"
      ]
     },
     "metadata": {
      "needs_background": "light"
     },
     "output_type": "display_data"
    }
   ],
   "source": [
    "import numpy as np\n",
    "import matplotlib.pyplot as plt\n",
    "\n",
    "def volume(t):\n",
    "    if t>=0 and t < 1:\n",
    "        V1 = t +1\n",
    "        return V1\n",
    "    elif t>=1 and t<2:\n",
    "        V2 = 3*t - 1\n",
    "        return V2\n",
    "    else:\n",
    "        V3 = 7*t-9\n",
    "        return V3\n",
    "    \n",
    "t = np.linspace(0,3,100)\n",
    "vol1= np.vectorize(volume)\n",
    "y = vol1(t)\n",
    "plt.plot(t,y)\n",
    "plt.show()"
   ]
  },
  {
   "cell_type": "code",
   "execution_count": 49,
   "metadata": {},
   "outputs": [
    {
     "data": {
      "text/plain": [
       "12"
      ]
     },
     "execution_count": 49,
     "metadata": {},
     "output_type": "execute_result"
    }
   ],
   "source": [
    "volume(3)"
   ]
  },
  {
   "cell_type": "code",
   "execution_count": 50,
   "metadata": {},
   "outputs": [
    {
     "data": {
      "image/png": "[encoded data removed]",
      "text/plain": [
       "<Figure size 432x288 with 1 Axes>"
      ]
     },
     "metadata": {
      "needs_background": "light"
     },
     "output_type": "display_data"
    }
   ],
   "source": [
    "import numpy as np\n",
    "def volume(t):\n",
    "    return np.exp(t)\n",
    "\n",
    "t = np.linspace(0,3,100)\n",
    "vol= np.vectorize(volume)\n",
    "y1=vol(t)\n",
    "plt.plot(t,y1)\n",
    "plt.show()"
   ]
  }
 ],
 "metadata": {
  "kernelspec": {
   "display_name": "Python 3",
   "language": "python",
   "name": "python3"
  },
  "language_info": {
   "codemirror_mode": {
    "name": "ipython",
    "version": 3
   },
   "file_extension": ".py",
   "mimetype": "text/x-python",
   "name": "python",
   "nbconvert_exporter": "python",
   "pygments_lexer": "ipython3",
   "version": "3.7.4"
  }
 },
 "nbformat": 4,
 "nbformat_minor": 4
}
