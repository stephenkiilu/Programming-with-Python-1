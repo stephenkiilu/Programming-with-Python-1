{
 "cells": [
  {
   "cell_type": "code",
   "execution_count": 4,
   "metadata": {},
   "outputs": [
    {
     "data": {
      "application/javascript": [
       "MathJax.Hub.Config({\n",
       "    TeX: { equationNumbers: { autoNumber: \"AMS\" } }\n",
       "});\n"
      ],
      "text/plain": [
       "<IPython.core.display.Javascript object>"
      ]
     },
     "metadata": {},
     "output_type": "display_data"
    }
   ],
   "source": [
    "%%javascript\n",
    "MathJax.Hub.Config({\n",
    "    TeX: { equationNumbers: { autoNumber: \"AMS\" } }\n",
    "});"
   ]
  },
  {
   "cell_type": "markdown",
   "metadata": {},
   "source": [
    "# $$\\text{Quiz 4}$$\n",
    "\n",
    "$\\text{Exercise 1}$\n",
    "\n",
    "Let $\\{ x_k\\}$ be a partition of $[a,b]$ such that $a=x_0<x_1<\\cdots<x_{N-1}<x_{N}=b$ and $H$ be the constant length of the $k$-th subinterval ($H = x_k - x_{k-1}$). Let us consider initial value problem\n",
    "\n",
    "\\begin{equation}\\label{eul2}\n",
    "  \\begin{cases}\n",
    "    y' = f(x,y),      & \\quad \\text{on } [a, b]\\\\\\\\\n",
    "    y(a) = c,\n",
    "  \\end{cases}\n",
    "\\end{equation}\n",
    "Let $\\{ y_k\\}$ be the approximate solution i.e.  $y_k\\approx g(x_k)=g_k$ where $g$ is the exact solution.\n",
    "1. Write a python function <b> EulerMethod </b> that takes $a,b,c,N,$ and $f$ and return array of all $x_k$ and $y_k$ of \\eqref{eul2} using Euler method i.e.\n",
    "$$ y_{k+1} = y_k + Hf(x_k,y_k) $$\n"
   ]
  },
  {
   "cell_type": "code",
   "execution_count": 5,
   "metadata": {},
   "outputs": [],
   "source": [
    "import numpy as np\n",
    "\n",
    "def EulerMethod(a,b,c,N,f):\n",
    "    H = (b-a)/N\n",
    "    x = np.linspace(a,b,N+1)\n",
    "    y1 = np.zeros([N+1])\n",
    "    y1[a] = c\n",
    "    for k in range(1,N+1):\n",
    "        y1[k] = y1[k-1] + H*f(x[k-1],y1[k-1])\n",
    "    \n",
    "    return x,y1\n"
   ]
  },
  {
   "cell_type": "markdown",
   "metadata": {},
   "source": [
    "2. Write a python function <b> RK2Method </b> that takes $a,b,c,N,$ and $f$ and return array of all $x_k$ and $y_k$ of (1) using second order Runge-Kutta  method i.e.\n",
    "\\begin{equation}\n",
    "\\begin{cases}\n",
    "\\alpha = f(x_k,y_k)\\\\\\\\\n",
    "y_{k+1} = y_k + Hf(x_k+\\dfrac{H}{2}, y_k + \\dfrac{H}{2}\\alpha)\n",
    "\\end{cases}\n",
    "\\end{equation}\n",
    "\n"
   ]
  },
  {
   "cell_type": "code",
   "execution_count": 2,
   "metadata": {},
   "outputs": [],
   "source": [
    "import numpy as np\n",
    "\n",
    "def RK2Method(a,b,c,N,f):\n",
    "    H = (b-a)/N\n",
    "    x = np.linspace(a,b,N+1)\n",
    "    y2 = np.zeros([N+1])\n",
    "    y2[a] = c\n",
    "    \n",
    "    \n",
    "    for k in range(1,N+1):\n",
    "        α = f(x[k-1],y2[k-1])\n",
    "        y2[k] = y2[k-1] + H*f(x[k-1] + H/2,y2[k-1] + (H/2)*α)\n",
    "    \n",
    "    return x,y2\n"
   ]
  },
  {
   "cell_type": "markdown",
   "metadata": {},
   "source": [
    "3. Let us consider the initial value problem \n",
    "\n",
    "\\begin{equation}\n",
    "  \\begin{cases}\n",
    "    y' = 2y + e^{2x},      & \\quad \\text{on } [0, 1]\\\\\\\\\n",
    "    y(0) = 3,\n",
    "  \\end{cases}\n",
    "\\end{equation}\n",
    "with exact solution $g(x) = (x+3)e^{2x}$. \n",
    "\n",
    "For $N=200$, use subplot to plot side by side\n",
    "- the exact solution and the approximate solutions obtained with <b> EulerMethod </b> and <b> RK2Method </b>\n",
    "- the absolute error between the exact solution and the approximate solutions obtained with <b> EulerMethod </b> and <b> RK2Method </b>"
   ]
  },
  {
   "cell_type": "code",
   "execution_count": 6,
   "metadata": {},
   "outputs": [
    {
     "data": {
      "text/plain": [
       "<matplotlib.legend.Legend at 0x2187e779108>"
      ]
     },
     "execution_count": 6,
     "metadata": {},
     "output_type": "execute_result"
    },
    {
     "data": {
      "image/png": "[encoded data removed]",
      "text/plain": [
       "<Figure size 432x288 with 2 Axes>"
      ]
     },
     "metadata": {
      "needs_background": "light"
     },
     "output_type": "display_data"
    }
   ],
   "source": [
    "import numpy as np\n",
    "import matplotlib.pyplot as plt\n",
    "\n",
    "a = 0\n",
    "b = 1\n",
    "c = 3\n",
    "N = 200\n",
    "f = lambda x,y1:2*y1 + np.exp(2*x)\n",
    "\n",
    "g = lambda x: (x+3)*np.exp(2*x)\n",
    "\n",
    "x,y1 = RK2Method(a,b,c,N,f)\n",
    "x,y2 = EulerMethod(a,b,c,N,f)\n",
    "\n",
    "y = g(x)\n",
    "e1 = abs(y1-y)\n",
    "e2 = abs(y2-y)\n",
    "\n",
    "plt.subplot(1,2,1)\n",
    "plt.plot(x,y1)\n",
    "plt.plot(x[::5],y2[::5],'*')\n",
    "plt.plot(x[::20],y[::20],'.')\n",
    "plt.xlabel('xaxis')\n",
    "plt.ylabel('yaxis')\n",
    "plt.title('solution')\n",
    "plt.legend(['Euler','RK2','exact'])\n",
    "\n",
    "plt.subplot(1,2,2)\n",
    "plt.plot(x,e1)\n",
    "plt.plot(x,e2)\n",
    "plt.xlabel('xaxis')\n",
    "plt.ylabel('yaxis')\n",
    "plt.title('Error')\n",
    "plt.legend(['Euler.E','RK2.E'])\n",
    "\n",
    "\n"
   ]
  },
  {
   "cell_type": "markdown",
   "metadata": {},
   "source": [
    "$\\text{Exercise 2}$\n",
    "\n",
    "1. write a python code to solve the following linear equations\n",
    "\n",
    "\n",
    "\\begin{equation}\n",
    "  \\begin{cases}\n",
    "    x+y+z+w  = 13\\\\\n",
    "    2x+3y-w = -1\\\\\n",
    "    -3x+4y+z+2w  = 10\\\\\n",
    "    x+2y-z+w = 1\n",
    "  \\end{cases}.\n",
    "\\end{equation}\n"
   ]
  },
  {
   "cell_type": "code",
   "execution_count": 52,
   "metadata": {},
   "outputs": [
    {
     "data": {
      "text/plain": [
       "array([2., 0., 6., 5.])"
      ]
     },
     "execution_count": 52,
     "metadata": {},
     "output_type": "execute_result"
    }
   ],
   "source": [
    "import numpy as np\n",
    "A = np.array([[1,1,1,1],[2,3,0,-1],[-3,4,1,2],[1,2,-1,1]])\n",
    "b = np.array([13,-1,10,1])\n",
    "np.linalg.solve(A,b)"
   ]
  },
  {
   "cell_type": "markdown",
   "metadata": {},
   "source": [
    "2. write a python code to solve the following nonlinear equations\n",
    "\\begin{equation}\n",
    "\\begin{cases}\n",
    "    x^2 + y + x = 2\\\\\n",
    "    2e^x + 3y = 8\n",
    "\\end{cases}\n",
    "\\end{equation}"
   ]
  },
  {
   "cell_type": "code",
   "execution_count": 53,
   "metadata": {},
   "outputs": [
    {
     "data": {
      "text/plain": [
       "array([-3.50235259e-12,  2.00000000e+00])"
      ]
     },
     "execution_count": 53,
     "metadata": {},
     "output_type": "execute_result"
    }
   ],
   "source": [
    "import numpy as np\n",
    "from scipy.optimize import fsolve\n",
    "\n",
    "def nonlinear(R):\n",
    "    x,y=R\n",
    "    \n",
    "    return(x**2 + y + x - 2,2*np.exp(x) + 3*y - 8)\n",
    "fsolve(nonlinear,(1,1))"
   ]
  }
 ],
 "metadata": {
  "kernelspec": {
   "display_name": "Python 3",
   "language": "python",
   "name": "python3"
  },
  "language_info": {
   "codemirror_mode": {
    "name": "ipython",
    "version": 3
   },
   "file_extension": ".py",
   "mimetype": "text/x-python",
   "name": "python",
   "nbconvert_exporter": "python",
   "pygments_lexer": "ipython3",
   "version": "3.7.4"
  }
 },
 "nbformat": 4,
 "nbformat_minor": 4
}
