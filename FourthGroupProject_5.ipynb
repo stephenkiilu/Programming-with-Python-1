{
 "cells": [
  {
   "cell_type": "code",
   "execution_count": 2,
   "metadata": {},
   "outputs": [],
   "source": [
    "# put all the libraries you need to import in this cell\n",
    "import os\n",
    "import pandas as pd \n",
    "import numpy as np\n",
    "import seaborn as sns\n",
    "from string import ascii_uppercase\n",
    "from pandas import DataFrame\n",
    "import matplotlib.pyplot as plt   \n",
    "import statsmodels.api as sm\n",
    "from sklearn.model_selection import train_test_split\n",
    "from sklearn.preprocessing import LabelBinarizer\n",
    "from sklearn.linear_model import LinearRegression\n",
    "import warnings\n",
    "warnings.filterwarnings(\"ignore\", category=FutureWarning)\n",
    "\n",
    "from sklearn.neighbors import KNeighborsClassifier\n",
    "from sklearn.naive_bayes import GaussianNB\n",
    "from sklearn.linear_model import LogisticRegression\n",
    "from sklearn.neural_network import MLPClassifier\n",
    "from sklearn.svm import SVC\n",
    "from sklearn.tree import DecisionTreeClassifier\n",
    "from sklearn.ensemble import RandomForestClassifier\n",
    "from sklearn.ensemble import GradientBoostingClassifier\n",
    "from sklearn.ensemble import AdaBoostClassifier\n",
    "from sklearn.metrics import classification_report\n",
    "\n",
    "\n",
    "from sklearn.model_selection import GridSearchCV as gs\n",
    "from sklearn.model_selection import RandomizedSearchCV as rs\n",
    "from sklearn.model_selection import StratifiedKFold\n",
    "\n",
    "from sklearn.metrics import accuracy_score,confusion_matrix,precision_score,recall_score, roc_auc_score,roc_curve, auc, f1_score \n",
    "\n",
    "\n"
   ]
  },
  {
   "cell_type": "markdown",
   "metadata": {},
   "source": [
    "# <b> Exercise 1</b>\n",
    "\n",
    "You are called to build up the best model based on the given data (<b>'hepatitis.csv'</b>) to predict wheather a patient is has Hepatitis B or not. To complete this task, you will proceed as follow: \n",
    "- prepare the data, \n",
    "- create training/testing sets, \n",
    "- instantiate the classifier, \n",
    "- train the classifier, \n",
    "- make predictions, \n",
    "- evaluate performance of classifier.\n",
    "\n",
    "<b> 5 points bonus for first three best models</b>"
   ]
  },
  {
   "cell_type": "code",
   "execution_count": null,
   "metadata": {},
   "outputs": [],
   "source": []
  },
  {
   "cell_type": "code",
   "execution_count": 3,
   "metadata": {},
   "outputs": [
    {
     "name": "stdout",
     "output_type": "stream",
     "text": [
      "<class 'pandas.core.frame.DataFrame'>\n",
      "RangeIndex: 142 entries, 0 to 141\n",
      "Data columns (total 20 columns):\n",
      "class             142 non-null int64\n",
      "age               142 non-null int64\n",
      "sex               142 non-null int64\n",
      "steroid           142 non-null int64\n",
      "antivirals        142 non-null int64\n",
      "fatigue           142 non-null int64\n",
      "malaise           142 non-null int64\n",
      "anorexia          142 non-null int64\n",
      "liver_big         142 non-null int64\n",
      "liver_firm        142 non-null int64\n",
      "spleen_palable    142 non-null int64\n",
      "spiders           142 non-null int64\n",
      "ascites           142 non-null int64\n",
      "varices           142 non-null int64\n",
      "bilirubin         142 non-null float64\n",
      "alk_phosphate     142 non-null int64\n",
      "sgot              142 non-null int64\n",
      "albumin           142 non-null float64\n",
      "protime           142 non-null int64\n",
      "histology         142 non-null int64\n",
      "dtypes: float64(2), int64(18)\n",
      "memory usage: 22.3 KB\n"
     ]
    },
    {
     "data": {
      "text/plain": [
       "<Figure size 1368x1080 with 0 Axes>"
      ]
     },
     "metadata": {},
     "output_type": "display_data"
    },
    {
     "data": {
      "image/png": "[encoded data removed]",
      "text/plain": [
       "<Figure size 432x288 with 2 Axes>"
      ]
     },
     "metadata": {
      "needs_background": "light"
     },
     "output_type": "display_data"
    },
    {
     "name": "stdout",
     "output_type": "stream",
     "text": [
      "Accuracy of the KNN model: 0.86\n",
      "              precision    recall  f1-score   support\n",
      "\n",
      "           1       0.89      0.89      0.89        18\n",
      "           2       0.82      0.82      0.82        11\n",
      "\n",
      "    accuracy                           0.86        29\n",
      "   macro avg       0.85      0.85      0.85        29\n",
      "weighted avg       0.86      0.86      0.86        29\n",
      "\n",
      "Accuracy of the logistic reg model: 0.79\n",
      "              precision    recall  f1-score   support\n",
      "\n",
      "           1       0.83      0.83      0.83        18\n",
      "           2       0.73      0.73      0.73        11\n",
      "\n",
      "    accuracy                           0.79        29\n",
      "   macro avg       0.78      0.78      0.78        29\n",
      "weighted avg       0.79      0.79      0.79        29\n",
      "\n",
      "Accuracy of the Gaussian Naive Bayes model: 0.86\n",
      "              precision    recall  f1-score   support\n",
      "\n",
      "           1       1.00      0.82      0.90        22\n",
      "           2       0.64      1.00      0.78         7\n",
      "\n",
      "    accuracy                           0.86        29\n",
      "   macro avg       0.82      0.91      0.84        29\n",
      "weighted avg       0.91      0.86      0.87        29\n",
      "\n",
      "Accuracy of the Decision Tree model: 0.48\n",
      "              precision    recall  f1-score   support\n",
      "\n",
      "           1       0.50      0.60      0.55        15\n",
      "           2       0.45      0.36      0.40        14\n",
      "\n",
      "    accuracy                           0.48        29\n",
      "   macro avg       0.48      0.48      0.47        29\n",
      "weighted avg       0.48      0.48      0.48        29\n",
      "\n",
      "Accuracy of the Random forest model: 0.76\n",
      "              precision    recall  f1-score   support\n",
      "\n",
      "           1       0.83      0.79      0.81        19\n",
      "           2       0.64      0.70      0.67        10\n",
      "\n",
      "    accuracy                           0.76        29\n",
      "   macro avg       0.73      0.74      0.74        29\n",
      "weighted avg       0.77      0.76      0.76        29\n",
      "\n",
      "Accuracy of the Gradient Descent Boosting model: 0.76\n",
      "              precision    recall  f1-score   support\n",
      "\n",
      "           1       0.89      0.76      0.82        21\n",
      "           2       0.55      0.75      0.63         8\n",
      "\n",
      "    accuracy                           0.76        29\n",
      "   macro avg       0.72      0.76      0.73        29\n",
      "weighted avg       0.79      0.76      0.77        29\n",
      "\n"
     ]
    },
    {
     "name": "stderr",
     "output_type": "stream",
     "text": [
      "C:\\Users\\Admin\\Anaconda3\\lib\\site-packages\\sklearn\\linear_model\\logistic.py:947: ConvergenceWarning: lbfgs failed to converge. Increase the number of iterations.\n",
      "  \"of iterations.\", ConvergenceWarning)\n"
     ]
    }
   ],
   "source": [
    "data=pd.read_csv('hepatitis.csv')\n",
    "data.head(60)\n",
    "data.info()\n",
    "data.isnull().sum()\n",
    "data.describe()\n",
    "data.corr()\n",
    "cor=data.corr()\n",
    "plt.figure(figsize=(19,15))\n",
    "data['histology'].value_counts()\n",
    "sm.graphics.plot_corr(cor, xnames=list(cor.columns))\n",
    "plt.show()\n",
    "X=data.drop(columns=[\"histology\"])\n",
    "y=data[\"histology\"]\n",
    "X_train, X_test, y_train, y_test =train_test_split(X,y, test_size=0.20, random_state= 42)\n",
    "y.shape\n",
    "X_test.shape\n",
    "\n",
    "KNN_model = KNeighborsClassifier(n_neighbors=5)\n",
    "KNN_model.fit(X_train, y_train)\n",
    "y_KNN_pred = KNN_model.predict(X_test)\n",
    "print('Accuracy of the KNN model: %.2f' %accuracy_score(y_KNN_pred, y_test))\n",
    "print(classification_report(y_KNN_pred, y_test))\n",
    "\n",
    "\n",
    "logistic= LogisticRegression(solver='lbfgs')\n",
    "logistic.fit(X_train, y_train)\n",
    "y_logistic_pred =logistic.predict(X_test)\n",
    "print('Accuracy of the logistic reg model: %.2f' %accuracy_score(y_logistic_pred, y_test))\n",
    "print(classification_report(y_logistic_pred, y_test))\n",
    "\n",
    "GNB_model=GaussianNB()\n",
    "GNB_model.fit(X_train, y_train)\n",
    "y_GNB_pred=GNB_model.predict(X_test)\n",
    "print('Accuracy of the Gaussian Naive Bayes model: %.2f' %accuracy_score(y_GNB_pred, y_test))\n",
    "print(classification_report(y_GNB_pred, y_test))\n",
    "\n",
    "Dt_model=DecisionTreeClassifier(max_depth=10,criterion=\"gini\")\n",
    "Dt_model.fit(X_train, y_train)\n",
    "y_Dt_pred=Dt_model.predict(X_test)\n",
    "print('Accuracy of the Decision Tree model: %.2f' %accuracy_score(y_Dt_pred, y_test))\n",
    "print(classification_report(y_Dt_pred, y_test))\n",
    "\n",
    "\n",
    "RF_model=RandomForestClassifier()\n",
    "RF_model.fit(X_train, y_train)\n",
    "y_RF_pred=RF_model.predict(X_test)\n",
    "print('Accuracy of the Random forest model: %.2f' %accuracy_score(y_RF_pred, y_test))\n",
    "print(classification_report(y_RF_pred, y_test))\n",
    "\n",
    "GD_model=GradientBoostingClassifier()\n",
    "GD_model=RandomForestClassifier()\n",
    "GD_model.fit(X_train, y_train)\n",
    "y_GD_pred=GD_model.predict(X_test)\n",
    "print('Accuracy of the Gradient Descent Boosting model: %.2f' %accuracy_score(y_GD_pred, y_test))\n",
    "print(classification_report(y_GD_pred, y_test))\n",
    "\n",
    "\n"
   ]
  },
  {
   "cell_type": "markdown",
   "metadata": {},
   "source": [
    "<b>the best model is Gaussian Naive Bayes model with accuracy of 72%"
   ]
  },
  {
   "cell_type": "markdown",
   "metadata": {},
   "source": [
    "# <b> Exercise 2</b>\n",
    "\n",
    "You are called to build up a the best model based on the given data (<b>'student-mat.csv'</b>) to predict the grade at third trimester ('G3'). To complete this task, you will proceed as follow: \n",
    "- prepare the data, \n",
    "- create training/testing sets, \n",
    "- instantiate the regression model, \n",
    "- train the the regression model, \n",
    "- make predictions using the regression model , \n",
    "- evaluate performance of the regression model.\n",
    "\n",
    "<b> 5 points bonus for first three best models</b>"
   ]
  },
  {
   "cell_type": "code",
   "execution_count": 4,
   "metadata": {},
   "outputs": [
    {
     "name": "stdout",
     "output_type": "stream",
     "text": [
      "<class 'pandas.core.frame.DataFrame'>\n",
      "RangeIndex: 395 entries, 0 to 394\n",
      "Data columns (total 33 columns):\n",
      "school        395 non-null object\n",
      "sex           395 non-null object\n",
      "age           395 non-null int64\n",
      "address       395 non-null object\n",
      "famsize       395 non-null object\n",
      "Pstatus       395 non-null object\n",
      "Medu          395 non-null int64\n",
      "Fedu          395 non-null int64\n",
      "Mjob          395 non-null object\n",
      "Fjob          395 non-null object\n",
      "reason        395 non-null object\n",
      "guardian      395 non-null object\n",
      "traveltime    395 non-null int64\n",
      "studytime     395 non-null int64\n",
      "failures      395 non-null int64\n",
      "schoolsup     395 non-null object\n",
      "famsup        395 non-null object\n",
      "paid          395 non-null object\n",
      "activities    395 non-null object\n",
      "nursery       395 non-null object\n",
      "higher        395 non-null object\n",
      "internet      395 non-null object\n",
      "romantic      395 non-null object\n",
      "famrel        395 non-null int64\n",
      "freetime      395 non-null int64\n",
      "goout         395 non-null int64\n",
      "Dalc          395 non-null int64\n",
      "Walc          395 non-null int64\n",
      "health        395 non-null int64\n",
      "absences      395 non-null int64\n",
      "G1            395 non-null int64\n",
      "G2            395 non-null int64\n",
      "G3            395 non-null int64\n",
      "dtypes: int64(16), object(17)\n",
      "memory usage: 102.0+ KB\n"
     ]
    },
    {
     "data": {
      "text/plain": [
       "<Figure size 1368x1080 with 0 Axes>"
      ]
     },
     "metadata": {},
     "output_type": "display_data"
    },
    {
     "data": {
      "image/png": "[encoded data removed]",
      "text/plain": [
       "<Figure size 432x288 with 2 Axes>"
      ]
     },
     "metadata": {
      "needs_background": "light"
     },
     "output_type": "display_data"
    },
    {
     "name": "stdout",
     "output_type": "stream",
     "text": [
      "The R-Squared:  0.8183615327781372\n",
      "G1 :  0.13991881518797403\n",
      "G2 :  0.9458819432484956\n",
      "Medu :  0.06455769559538953\n",
      "failures :  -0.13132495554791976\n",
      "sex :  0.29495709632937517\n",
      "famsize :  0.35723149399669524\n",
      "studytime :  -0.4116314655431147\n",
      "internet :  0.20402996220682917\n",
      "absences :  0.02807056625530861\n",
      "school :  -0.13281050032496405\n",
      "The intercept of our slope is:  -0.9777106888317348\n"
     ]
    }
   ],
   "source": [
    "data1=pd.read_csv('student-mat.csv')\n",
    "data1.head(50)\n",
    "data1['famsize'].value_counts()\n",
    "data1.shape\n",
    "data1.info()\n",
    "data1.describe()\n",
    "data1.isnull().sum()\n",
    "data1.corr()\n",
    "cor = data1.corr()\n",
    "plt.figure(figsize=(19,15))\n",
    "sm.graphics.plot_corr(cor, xnames=list(cor.columns))\n",
    "plt.show()\n",
    "lb = LabelBinarizer()\n",
    "data1.sex = lb.fit_transform(data1.sex)\n",
    "data1.sex.unique()\n",
    "data1['famsize'].value_counts()\n",
    "data1.famsize = lb.fit_transform(data1.famsize)\n",
    "data1.famsize.unique()\n",
    "data1['internet'].value_counts()\n",
    "data1.internet= lb.fit_transform(data1.internet)\n",
    "data1.internet.unique()\n",
    "data1.school= lb.fit_transform(data1.school)\n",
    "data1.school.unique()\n",
    "data1['school'].value_counts()\n",
    "yy=data1[\"G3\"]\n",
    "y=np.array(yy)\n",
    "xx=data1[[\"G1\",\"G2\",\"Medu\",\"failures\",\"sex\",\"famsize\",\"studytime\",\"internet\",\"absences\",\"school\"]]\n",
    "X= np.array(xx)\n",
    "X_train, X_test, y_train, y_test = train_test_split(X,y, test_size=0.8, random_state=123)\n",
    "multiple_reg = LinearRegression()\n",
    "multiple_reg.fit(X_train,y_train)\n",
    "print(\"The R-Squared: \",multiple_reg.score(X_test, y_test))\n",
    "alpha = multiple_reg.coef_\n",
    "beta = multiple_reg.intercept_\n",
    "\n",
    "for i in range(len(alpha)):\n",
    "    print(xx.columns[i], ': ', alpha[i])\n",
    "print('The intercept of our slope is: ', beta)\n"
   ]
  },
  {
   "cell_type": "markdown",
   "metadata": {},
   "source": [
    "<b>Our model is given by: G3=0.14G1 + 0.95G2 + 0.06Medu - 0.13failures + 0.29sex + 0.36famsize - 0.41studytime +0.20internet +0.03absences - 0.13school - 0.98"
   ]
  },
  {
   "cell_type": "code",
   "execution_count": null,
   "metadata": {},
   "outputs": [],
   "source": []
  }
 ],
 "metadata": {
  "kernelspec": {
   "display_name": "Python 3",
   "language": "python",
   "name": "python3"
  },
  "language_info": {
   "codemirror_mode": {
    "name": "ipython",
    "version": 3
   },
   "file_extension": ".py",
   "mimetype": "text/x-python",
   "name": "python",
   "nbconvert_exporter": "python",
   "pygments_lexer": "ipython3",
   "version": "3.7.4"
  }
 },
 "nbformat": 4,
 "nbformat_minor": 4
}
